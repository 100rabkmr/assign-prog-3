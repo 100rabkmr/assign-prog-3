{
 "cells": [
  {
   "cell_type": "markdown",
   "id": "f66a3b69",
   "metadata": {},
   "source": [
    "# Assignment programming 3"
   ]
  },
  {
   "cell_type": "code",
   "execution_count": 1,
   "id": "19996054",
   "metadata": {},
   "outputs": [
    {
     "name": "stdout",
     "output_type": "stream",
     "text": [
      "Object `Zero` not found.\n",
      "Enter a number: 7\n",
      "Positive\n"
     ]
    }
   ],
   "source": [
    "1. Write a Python Program to Check if a Number is Positive, Negative or Zero?\n",
    "\n",
    "def check_number(num):\n",
    "    if num > 0:\n",
    "        print(\"Positive\")\n",
    "    elif num < 0:\n",
    "        print(\"Negative\")\n",
    "    else:\n",
    "        print(\"Zero\")\n",
    "\n",
    "# Test the function\n",
    "num = float(input(\"Enter a number: \"))\n",
    "check_number(num)\n"
   ]
  },
  {
   "cell_type": "code",
   "execution_count": 2,
   "id": "013ebe36",
   "metadata": {},
   "outputs": [
    {
     "name": "stdout",
     "output_type": "stream",
     "text": [
      "Object `Even` not found.\n",
      "Enter a number: 7\n",
      "Odd\n"
     ]
    }
   ],
   "source": [
    "2. Write a Python Program to Check if a Number is Odd or Even?\n",
    "\n",
    "def check_odd_even(num):\n",
    "    if num % 2 == 0:\n",
    "        print(\"Even\")\n",
    "    else:\n",
    "        print(\"Odd\")\n",
    "\n",
    "# Test the function\n",
    "num = int(input(\"Enter a number: \"))\n",
    "check_odd_even(num)\n"
   ]
  },
  {
   "cell_type": "code",
   "execution_count": 3,
   "id": "15b5e8ae",
   "metadata": {},
   "outputs": [
    {
     "name": "stdout",
     "output_type": "stream",
     "text": [
      "Object `Year` not found.\n",
      "Enter a year: 2004\n",
      "2004 is a leap year.\n"
     ]
    }
   ],
   "source": [
    "3. Write a Python Program to Check Leap Year?\n",
    "\n",
    "def is_leap_year(year):\n",
    "    if (year % 4 == 0 and year % 100 != 0) or (year % 400 == 0):\n",
    "        return True\n",
    "    else:\n",
    "        return False\n",
    "\n",
    "# Test the function\n",
    "year = int(input(\"Enter a year: \"))\n",
    "if is_leap_year(year):\n",
    "    print(year, \"is a leap year.\")\n",
    "else:\n",
    "    print(year, \"is not a leap year.\")\n"
   ]
  },
  {
   "cell_type": "code",
   "execution_count": null,
   "id": "21de8e32",
   "metadata": {},
   "outputs": [],
   "source": [
    "4. Write a Python Program to Check Prime Number?"
   ]
  }
 ],
 "metadata": {
  "kernelspec": {
   "display_name": "Python 3 (ipykernel)",
   "language": "python",
   "name": "python3"
  },
  "language_info": {
   "codemirror_mode": {
    "name": "ipython",
    "version": 3
   },
   "file_extension": ".py",
   "mimetype": "text/x-python",
   "name": "python",
   "nbconvert_exporter": "python",
   "pygments_lexer": "ipython3",
   "version": "3.11.7"
  }
 },
 "nbformat": 4,
 "nbformat_minor": 5
}
